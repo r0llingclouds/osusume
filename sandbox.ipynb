{
 "cells": [
  {
   "cell_type": "code",
   "execution_count": 2,
   "metadata": {},
   "outputs": [],
   "source": [
    "# Here you can play with specific components of the system."
   ]
  },
  {
   "cell_type": "code",
   "execution_count": 1,
   "metadata": {},
   "outputs": [
    {
     "name": "stdout",
     "output_type": "stream",
     "text": [
      "All results:\n",
      "- HAIKYU!!\n",
      "  Genres: Comedy, Drama, Sports\n",
      "  Tags: Volleyball, School Club, Male Protagonist, Primarily Male Cast, Ensemble Cast, Shounen, Primarily Teen Cast, School, Coming of Age, Fitness, Cute Boys Doing Cute Things, Kuudere\n",
      "------------------------------------------------------------\n",
      "- HAIKYU!! 2nd Season\n",
      "  Genres: Comedy, Drama, Sports\n",
      "  Tags: Volleyball, School Club, Ensemble Cast, Primarily Teen Cast, Primarily Male Cast, Shounen, Male Protagonist, Coming of Age, School, Tomboy\n",
      "------------------------------------------------------------\n",
      "- HAIKYU!! 3rd Season\n",
      "  Genres: Comedy, Drama, Sports\n",
      "  Tags: Volleyball, School Club, Shounen, Male Protagonist, Primarily Male Cast, Primarily Teen Cast, Ensemble Cast, School, Coming of Age\n",
      "------------------------------------------------------------\n",
      "- HAIKYU!! TO THE TOP\n",
      "  Genres: Comedy, Drama, Sports\n",
      "  Tags: Volleyball, Male Protagonist, Shounen, School Club, Primarily Male Cast, Ensemble Cast, School, Coming of Age, Primarily Teen Cast, Twins, Tomboy\n",
      "------------------------------------------------------------\n",
      "- HAIKYU‼ TO THE TOP Part 2\n",
      "  Genres: Comedy, Drama, Sports\n",
      "  Tags: Volleyball, Male Protagonist, Primarily Male Cast, Ensemble Cast, School Club, Primarily Teen Cast, Shounen, Coming of Age, Twins, Philosophy, Tomboy\n",
      "------------------------------------------------------------\n"
     ]
    }
   ],
   "source": [
    "# Method for searching anime via AniList API\n",
    "from src.anilist_query_searcher import search_anime\n",
    "\n",
    "search_results = search_anime(\n",
    "    # search_term=\"Attack on titan\",\n",
    "    # genres=[\"Sports\", \"Ecchi\"],  # Using single genre parameter\n",
    "    tags=[\"Volleyball\"],\n",
    "    per_page=5\n",
    ")\n",
    "\n",
    "# # Print all results first\n",
    "print(\"All results:\")\n",
    "for anime in search_results:\n",
    "    print(f\"- {anime['title']['english'] or anime['title']['romaji']}\")\n",
    "    print(f\"  Genres: {', '.join(anime['genres'])}\")\n",
    "    print(f\"  Tags: {', '.join([tag['name'] for tag in anime['tags']])}\")\n",
    "    print(\"-\" * 60)"
   ]
  },
  {
   "cell_type": "code",
   "execution_count": 2,
   "metadata": {},
   "outputs": [],
   "source": [
    "# Stage 1 - Request Parser\n",
    "from crewai import Agent, Task, LLM\n",
    "import os\n",
    "from src.request_parser import AnimeSearchParams, OFFICIAL_GENRES\n",
    "\n",
    "# Initialize LLM (using GPT-4o from OpenAI)\n",
    "llm = LLM(\n",
    "    model=\"gpt-4.1\",\n",
    "    api_key=os.getenv('OPENAI_API_KEY'),\n",
    "    max_tokens=2000,\n",
    "    temperature=0\n",
    ")\n",
    "\n",
    "mapper = Agent(\n",
    "    name=\"AniListRequestMapper\",\n",
    "    role=\"Filter extractor\",\n",
    "    goal=\"Return only the filters in the user's request, as minimal JSON.\",\n",
    "    backstory=\"An anime librarian who knows the difference between genres and tags.\",\n",
    "    allow_delegation=False,\n",
    "    llm=llm\n",
    ")\n",
    "\n",
    "map_request = Task(\n",
    "    description=(\n",
    "        \"USER_REQUEST:\\n\"\n",
    "        \"{user_request}\\n\\n\"\n",
    "        \"Produce **one JSON object** that validates against AnimeSearchParams.\\n\"\n",
    "        \"Rules:\\n\"\n",
    "        f\"• Only items in this list may appear in `genres`: {OFFICIAL_GENRES}.\\n\"\n",
    "        \"• Any other descriptive phrase (moods, sub‑genres like 'School Life', \"\n",
    "        \"adjectives like 'Wholesome') must go into `tags`.\\n\"\n",
    "        \"• Title‑case every word (e.g. 'school‑life' → 'School Life').\\n\"\n",
    "        \"Don't necessarily include genres unless they are specified in the request.\\n\"\n",
    "        \"• Omit every key whose value would be null.\\n\\n\"\n",
    "        \"Example:\\n\"\n",
    "        \"USER_REQUEST:  Recommend a dark fantasy from 2020.\\n\"\n",
    "        \"OUTPUT: {\\\"genres\\\": [\\\"Fantasy\\\"], \\\"tags\\\": [\\\"Dark\\\"], \\\"year\\\": 2020}\"\n",
    "    ),\n",
    "    expected_output=\"A JSON dict with only the mentioned filters, no nulls.\",\n",
    "    output_json=AnimeSearchParams,\n",
    "    agent=mapper,\n",
    ")"
   ]
  },
  {
   "cell_type": "code",
   "execution_count": 3,
   "metadata": {},
   "outputs": [
    {
     "name": "stdout",
     "output_type": "stream",
     "text": [
      "{'genres': ['Comedy'], 'tags': ['Isekai']}\n"
     ]
    }
   ],
   "source": [
    "# Testing for stage 1 - Request Parser\n",
    "from crewai import Crew, Process\n",
    "\n",
    "prompt = \"I want an isekai anime with some comedy\"\n",
    "\n",
    "crew = Crew(\n",
    "    agents=[mapper],\n",
    "    tasks=[map_request],\n",
    "    process=Process.sequential,\n",
    ")\n",
    "crew.kickoff(inputs={\"user_request\": prompt})\n",
    "\n",
    "params = {k: v for k, v in map_request.output.json_dict.items() if v is not None}\n",
    "print(params)\n",
    "\n"
   ]
  },
  {
   "cell_type": "code",
   "execution_count": 4,
   "metadata": {},
   "outputs": [],
   "source": [
    "# Stage 2 - Anime searcher and recommender\n",
    "from src.recommender import SearchAnimeTool\n",
    "from crewai import Agent, Crew, Task\n",
    "\n",
    "anime_tool = SearchAnimeTool()\n",
    "\n",
    "anime_researcher = Agent(\n",
    "    role=\"Anime Researcher\",\n",
    "    goal=\"Find animes that match a user query.\",\n",
    "    backstory=\"You are a seasoned anime critic.\",\n",
    "    tools=[anime_tool],\n",
    ")\n",
    "\n",
    "recommendation_task = Task(\n",
    "    description=\"Using AniList, compile a list of five anime that match the query.\",\n",
    "    expected_output=\"Five recommendations with one‑sentence justifications.\",\n",
    "    agent=anime_researcher,\n",
    ")"
   ]
  },
  {
   "cell_type": "code",
   "execution_count": 5,
   "metadata": {},
   "outputs": [],
   "source": [
    "# Arming the whole crew: Stage 1 + Stage 2\n",
    "crew = Crew(\n",
    "    agents=[mapper, anime_researcher],\n",
    "    tasks=[map_request, recommendation_task],\n",
    "    process=Process.sequential,\n",
    ")"
   ]
  },
  {
   "cell_type": "code",
   "execution_count": 6,
   "metadata": {},
   "outputs": [],
   "source": [
    "# Testing the whole system"
   ]
  },
  {
   "cell_type": "code",
   "execution_count": 7,
   "metadata": {},
   "outputs": [
    {
     "name": "stdout",
     "output_type": "stream",
     "text": [
      "1. **Akira (1988)** - A groundbreaking anime film that explores a dystopian future where a teenage delinquent gains psychic powers, and it perfectly captures the gritty, cyberpunk themes akin to \"Akira.\"  \n",
      "   ![Akira](https://s4.anilist.co/file/anilistcdn/media/anime/cover/small/bx47-4CR68arv452h.jpg)\n",
      "\n",
      "2. **Texhnolyze (2003)** - This series delves into a dark examination of humanity's struggle for survival in a dystopian underground city, reminiscent of the oppressive atmosphere and philosophical themes presented in \"Akira.\"  \n",
      "   ![Texhnolyze](https://s4.anilist.co/file/anilistcdn/media/anime/cover/small/bx26-ADSztyHBNO39.jpg)\n",
      "\n",
      "3. **Casshern Sins (2008)** - Set in a post-apocalyptic world filled with despair and existential questions, it narrates the journey of Casshern as he confronts a world plagued by death and decay, capturing the essence of Akira's tone.  \n",
      "   ![Casshern Sins](https://s4.anilist.co/file/anilistcdn/media/anime/cover/small/bx4981-V6MbMiJUqdvP.jpg)\n",
      "\n",
      "4. **Expelled From Paradise (2014)** - This film presents a unique blend of sci-fi and action in a digital world contrasted against a dystopian environment, drawing parallels to \"Akira's\" complex narrative of human existence and technology.  \n",
      "   ![Expelled From Paradise](https://s4.anilist.co/file/anilistcdn/media/anime/cover/small/bx13391-uj1wsF4E8mXO.jpg)\n",
      "\n",
      "5. **Battle Angel Alita (1993)** - Based on the manga, this OVA explores themes of identity and survival in a cyberpunk setting, similar to \"Akira\" in its discussions of humanity within a mechanized world.  \n",
      "   ![Battle Angel Alita](https://s4.anilist.co/file/anilistcdn/media/anime/cover/small/bx1016-3tyU3Y3KtcGA.png)\n"
     ]
    }
   ],
   "source": [
    "result = crew.kickoff(inputs={\"user_request\": \"I want an anime like Akira\"})\n",
    "print(result)"
   ]
  },
  {
   "cell_type": "code",
   "execution_count": 8,
   "metadata": {},
   "outputs": [
    {
     "name": "stdout",
     "output_type": "stream",
     "text": [
      "1. **PSYCHO-PASS** - This anime explores a dystopian future governed by a system that quantifies human emotions, drawing parallels to \"Ghost in the Shell\" in its themes of justice and psychological exploration. ![Cover Image](https://s4.anilist.co/file/anilistcdn/media/anime/cover/small/bx13601-i42VFuHpqEOJ.jpg)\n",
      "\n",
      "2. **Vivy: Fluorite Eye’s Song** - Featuring an AI protagonist, this series tackles the complexities of consciousness and ethics in AI, resonating with the philosophical inquiries found in \"Ghost in the Shell.\" ![Cover Image](https://s4.anilist.co/file/anilistcdn/media/anime/cover/small/bx128546-UIwyhuhjxmL0.jpg)\n",
      "\n",
      "3. **Ghost in the Shell** - The original 1995 film, a classic in the cyberpunk genre, it dives into themes of identity, technology, and the nature of humanity, providing a rich storytelling experience. ![Cover Image](https://s4.anilist.co/file/anilistcdn/media/anime/cover/small/bx43-Y6EjeEMM14dj.png)\n",
      "\n",
      "4. **PLUTO** - A reimagining of classic source materials, this series combines gripping narratives of action and robot morality with an investigation into human emotions and artificial intelligence, similar to the ethos of \"Ghost in the Shell.\" ![Cover Image](https://s4.anilist.co/file/anilistcdn/media/anime/cover/small/bx99088-LTJskMD1wbbQ.png)\n",
      "\n",
      "5. **Ghost in the Shell: Stand Alone Complex** - This series expands the narrative universe of the original film, emphasizing political intrigue and social issues within a cybernetic society, appealing strongly to fans of the franchise. ![Cover Image](https://s4.anilist.co/file/anilistcdn/media/anime/cover/small/bx467-mBTtIoR13qs2.jpg)\n"
     ]
    }
   ],
   "source": [
    "result = crew.kickoff(inputs={\"user_request\": \"I want an anime like ghost in the shell\"})\n",
    "print(result)"
   ]
  },
  {
   "cell_type": "code",
   "execution_count": 9,
   "metadata": {},
   "outputs": [
    {
     "name": "stdout",
     "output_type": "stream",
     "text": [
      "1. **The Prince of Tennis** - A classic sports anime that combines intense tennis matches with comedic school life, showcasing the growth and rivalry among young players.\n",
      "   ![The Prince of Tennis](https://s4.anilist.co/file/anilistcdn/media/anime/cover/small/bx22-yEguU9EmxkjK.png)\n",
      "\n",
      "2. **Teekyuu** - A hilariously fast-paced comedy featuring a group of girls in a tennis club, known for its surreal humor and rapid-fire jokes that keep audiences laughing.\n",
      "   ![Teekyuu](https://s4.anilist.co/file/anilistcdn/media/anime/cover/small/bx15125-2ngZyS4KrMqA.png)\n",
      "\n",
      "3. **Teekyuu 2** - The second season of the beloved series continues the zany adventures of the tennis club girls, maintaining its quirky charm and offbeat humor.\n",
      "   ![Teekyuu 2](https://s4.anilist.co/file/anilistcdn/media/anime/cover/small/bx18121-k8UaPii7p9sl.jpg)\n",
      "\n",
      "4. **Prince of Tennis II** - A sequel that brings back beloved characters and presents new challenges in tennis, while continuing to infuse comedy into competitive sports.\n",
      "   ![Prince of Tennis II](https://s4.anilist.co/file/anilistcdn/media/anime/cover/small/bx11371-2lnI6nn8HiML.jpg)\n",
      "\n",
      "5. **Teekyuu 3** - The third installment of the series, it cleverly mixes comedy and tennis, ensuring fans get more of the delightfully absurd antics and character interactions.\n",
      "   ![Teekyuu 3](https://s4.anilist.co/file/anilistcdn/media/anime/cover/small/20444.jpg)\n"
     ]
    }
   ],
   "source": [
    "result = crew.kickoff(inputs={\"user_request\": \"I want an tennis anime with some comedy\"})\n",
    "print(result)"
   ]
  },
  {
   "cell_type": "code",
   "execution_count": null,
   "metadata": {},
   "outputs": [],
   "source": []
  },
  {
   "cell_type": "code",
   "execution_count": null,
   "metadata": {},
   "outputs": [],
   "source": []
  }
 ],
 "metadata": {
  "kernelspec": {
   "display_name": ".venv",
   "language": "python",
   "name": "python3"
  },
  "language_info": {
   "codemirror_mode": {
    "name": "ipython",
    "version": 3
   },
   "file_extension": ".py",
   "mimetype": "text/x-python",
   "name": "python",
   "nbconvert_exporter": "python",
   "pygments_lexer": "ipython3",
   "version": "3.11.11"
  }
 },
 "nbformat": 4,
 "nbformat_minor": 2
}
