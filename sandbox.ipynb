{
 "cells": [
  {
   "cell_type": "code",
   "execution_count": 2,
   "metadata": {},
   "outputs": [],
   "source": [
    "# Here you can play with specific components of the system."
   ]
  },
  {
   "cell_type": "code",
   "execution_count": 13,
   "metadata": {},
   "outputs": [
    {
     "name": "stdout",
     "output_type": "stream",
     "text": [
      "All results:\n",
      "- HAIKYU!!\n",
      "  Genres: Comedy, Drama, Sports\n",
      "  Tags: Volleyball, School Club, Male Protagonist, Primarily Male Cast, Ensemble Cast, Shounen, Primarily Teen Cast, School, Coming of Age, Fitness, Cute Boys Doing Cute Things, Kuudere\n",
      "{'medium': 'https://s4.anilist.co/file/anilistcdn/media/anime/cover/small/bx20464-ooZUyBe4ptp9.png'}\n",
      "------------------------------------------------------------\n",
      "- HAIKYU!! 2nd Season\n",
      "  Genres: Comedy, Drama, Sports\n",
      "  Tags: Volleyball, School Club, Ensemble Cast, Primarily Teen Cast, Primarily Male Cast, Shounen, Male Protagonist, Coming of Age, School, Tomboy\n",
      "{'medium': 'https://s4.anilist.co/file/anilistcdn/media/anime/cover/small/bx20992-aHgNbcalVEqk.png'}\n",
      "------------------------------------------------------------\n",
      "- HAIKYU!! 3rd Season\n",
      "  Genres: Comedy, Drama, Sports\n",
      "  Tags: Volleyball, School Club, Shounen, Male Protagonist, Primarily Male Cast, Primarily Teen Cast, Ensemble Cast, School, Coming of Age\n",
      "{'medium': 'https://s4.anilist.co/file/anilistcdn/media/anime/cover/small/bx21698-RL71mr1YU5Io.png'}\n",
      "------------------------------------------------------------\n",
      "- HAIKYU!! TO THE TOP\n",
      "  Genres: Comedy, Drama, Sports\n",
      "  Tags: Volleyball, Male Protagonist, Shounen, School Club, Primarily Male Cast, Ensemble Cast, School, Coming of Age, Primarily Teen Cast, Twins, Tomboy\n",
      "{'medium': 'https://s4.anilist.co/file/anilistcdn/media/anime/cover/small/bx106625-UR22wB2NuNVi.png'}\n",
      "------------------------------------------------------------\n",
      "- HAIKYU‼ TO THE TOP Part 2\n",
      "  Genres: Comedy, Drama, Sports\n",
      "  Tags: Volleyball, Male Protagonist, Primarily Male Cast, Ensemble Cast, School Club, Primarily Teen Cast, Shounen, Coming of Age, Twins, Philosophy, Tomboy\n",
      "{'medium': 'https://s4.anilist.co/file/anilistcdn/media/anime/cover/small/bx113538-tHVE8j5mOPLu.jpg'}\n",
      "------------------------------------------------------------\n"
     ]
    }
   ],
   "source": [
    "# Method for searching anime via AniList API\n",
    "from src.anilist_query_searcher import search_anime\n",
    "\n",
    "search_results = search_anime(\n",
    "    # search_term=\"Attack on titan\",\n",
    "    # genres=[\"Sports\", \"Ecchi\"],  # Using single genre parameter\n",
    "    tags=[\"Volleyball\"],\n",
    "    per_page=5\n",
    ")\n",
    "\n",
    "# # Print all results first\n",
    "print(\"All results:\")\n",
    "for anime in search_results:\n",
    "    print(f\"- {anime['title']['english'] or anime['title']['romaji']}\")\n",
    "    print(f\"  Genres: {', '.join(anime['genres'])}\")\n",
    "    print(f\"  Tags: {', '.join([tag['name'] for tag in anime['tags']])}\")\n",
    "    print(anime['coverImage'])\n",
    "    print(\"-\" * 60)"
   ]
  },
  {
   "cell_type": "code",
   "execution_count": 4,
   "metadata": {},
   "outputs": [],
   "source": [
    "# Stage 1 - Request Parser\n",
    "from crewai import Agent, Task, LLM\n",
    "import os\n",
    "from src.request_parser import AnimeSearchParams, OFFICIAL_GENRES\n",
    "\n",
    "# Initialize LLM (using GPT-4o from OpenAI)\n",
    "llm = LLM(\n",
    "    model=\"gpt-4.1\",\n",
    "    api_key=os.getenv('OPENAI_API_KEY'),\n",
    "    max_tokens=2000,\n",
    "    temperature=0\n",
    ")\n",
    "\n",
    "mapper = Agent(\n",
    "    name=\"AniListRequestMapper\",\n",
    "    role=\"Filter extractor\",\n",
    "    goal=\"Return only the filters in the user's request, as minimal JSON.\",\n",
    "    backstory=\"An anime librarian who knows the difference between genres and tags.\",\n",
    "    allow_delegation=False,\n",
    "    llm=llm\n",
    ")\n",
    "\n",
    "map_request = Task(\n",
    "    description=(\n",
    "        \"USER_REQUEST:\\n\"\n",
    "        \"{user_request}\\n\\n\"\n",
    "        \"Produce **one JSON object** that validates against AnimeSearchParams.\\n\"\n",
    "        \"Rules:\\n\"\n",
    "        f\"• Only items in this list may appear in `genres`: {OFFICIAL_GENRES}.\\n\"\n",
    "        \"• Any other descriptive phrase (moods, sub‑genres like 'School Life', \"\n",
    "        \"adjectives like 'Wholesome') must go into `tags`.\\n\"\n",
    "        \"• Title‑case every word (e.g. 'school‑life' → 'School Life').\\n\"\n",
    "        \"Don't necessarily include genres unless they are specified in the request.\\n\"\n",
    "        \"• Omit every key whose value would be null.\\n\\n\"\n",
    "        \"Example:\\n\"\n",
    "        \"USER_REQUEST:  Recommend a dark fantasy from 2020.\\n\"\n",
    "        \"OUTPUT: {\\\"genres\\\": [\\\"Fantasy\\\"], \\\"tags\\\": [\\\"Dark\\\"], \\\"year\\\": 2020}\"\n",
    "    ),\n",
    "    expected_output=\"A JSON dict with only the mentioned filters, no nulls.\",\n",
    "    output_json=AnimeSearchParams,\n",
    "    agent=mapper,\n",
    ")"
   ]
  },
  {
   "cell_type": "code",
   "execution_count": 5,
   "metadata": {},
   "outputs": [
    {
     "name": "stdout",
     "output_type": "stream",
     "text": [
      "{'genres': ['Comedy'], 'tags': ['Isekai']}\n"
     ]
    }
   ],
   "source": [
    "# Testing for stage 1 - Request Parser\n",
    "from crewai import Crew, Process\n",
    "\n",
    "prompt = \"I want an isekai anime with some comedy\"\n",
    "\n",
    "crew = Crew(\n",
    "    agents=[mapper],\n",
    "    tasks=[map_request],\n",
    "    process=Process.sequential,\n",
    ")\n",
    "crew.kickoff(inputs={\"user_request\": prompt})\n",
    "\n",
    "params = {k: v for k, v in map_request.output.json_dict.items() if v is not None}\n",
    "print(params)\n",
    "\n"
   ]
  },
  {
   "cell_type": "code",
   "execution_count": 6,
   "metadata": {},
   "outputs": [],
   "source": [
    "# Stage 2 - Anime searcher and recommender\n",
    "from src.recommender import SearchAnimeTool\n",
    "from crewai import Agent, Crew, Task\n",
    "\n",
    "anime_tool = SearchAnimeTool()\n",
    "\n",
    "anime_researcher = Agent(\n",
    "    role=\"Anime Researcher\",\n",
    "    goal=\"Find animes that match a user query.\",\n",
    "    backstory=\"You are a seasoned anime critic.\",\n",
    "    tools=[anime_tool],\n",
    ")\n",
    "\n",
    "recommendation_task = Task(\n",
    "    description=\"Using AniList, compile a list of five anime that match the query.\",\n",
    "    expected_output=\"Five recommendations with one‑sentence justifications.\",\n",
    "    agent=anime_researcher,\n",
    ")"
   ]
  },
  {
   "cell_type": "code",
   "execution_count": 7,
   "metadata": {},
   "outputs": [],
   "source": [
    "# Arming the whole crew: Stage 1 + Stage 2\n",
    "crew = Crew(\n",
    "    agents=[mapper, anime_researcher],\n",
    "    tasks=[map_request, recommendation_task],\n",
    "    process=Process.sequential,\n",
    ")"
   ]
  },
  {
   "cell_type": "code",
   "execution_count": 6,
   "metadata": {},
   "outputs": [],
   "source": [
    "# Testing the whole system"
   ]
  },
  {
   "cell_type": "code",
   "execution_count": 8,
   "metadata": {},
   "outputs": [
    {
     "name": "stdout",
     "output_type": "stream",
     "text": [
      "1. **Sword Art Online** - This pioneering series in the isekai genre features players trapped in a virtual reality game, blending intense action with emotional moments as they fight for their freedom. ![Sword Art Online](https://s4.anilist.co/file/anilistcdn/media/anime/cover/small/bx11757-SxYDUzdr9rh2.jpg)\n",
      "\n",
      "2. **Re:ZERO -Starting Life in Another World-** - A gripping tale of time manipulation and psychological struggle, where the protagonist experiences death and resurrection, leading to harrowing choices that affect him and his companions. ![Re:ZERO](https://s4.anilist.co/file/anilistcdn/media/anime/cover/small/bx21355-wRVUrGxpvIQQ.jpg)\n",
      "\n",
      "3. **No Game, No Life** - This vibrant and clever series follows a brother-sister duo who are transported to a world where games determine everything, showcasing their tactical brilliance and whimsical adventures. ![No Game, No Life](https://s4.anilist.co/file/anilistcdn/media/anime/cover/small/b19815-sEOQ9yQaPKlk.jpg)\n",
      "\n",
      "4. **KONOSUBA -God's blessing on this wonderful world!** - A humorous take on the isekai genre featuring a hapless protagonist and his quirky companions who navigate their new fantasy world filled with absurdity and infinite laughs. ![KONOSUBA](https://s4.anilist.co/file/anilistcdn/media/anime/cover/small/bx21202-qQoJeKz76vRT.png)\n",
      "\n",
      "5. **BLEACH** - While primarily an action-packed supernatural series, it features elements of isekai as the protagonist interacts with the afterlife and other dimensions, exploring themes of friendship and combative growth throughout. ![BLEACH](https://s4.anilist.co/file/anilistcdn/media/anime/cover/small/bx269-d2GmRkJbMopq.png)\n"
     ]
    }
   ],
   "source": [
    "result = crew.kickoff(inputs={\"user_request\": \"I want an isekai anime\"})\n",
    "print(result)"
   ]
  },
  {
   "cell_type": "code",
   "execution_count": 10,
   "metadata": {},
   "outputs": [
    {
     "name": "stdout",
     "output_type": "stream",
     "text": [
      "1. **The Prince of Tennis (Tennis no Ouji-sama)** - A classic sports anime that centers around the competitive world of tennis among high school students and showcases intense matches as well as comedic moments. ![The Prince of Tennis](https://s4.anilist.co/file/anilistcdn/media/anime/cover/small/bx22-yEguU9EmxkjK.png)\n",
      "\n",
      "2. **Teekyuu** - A fast-paced comedy that humorously depicts the daily adventures of a high school tennis club, packed with gags and surreal moments that keep the energy high. ![Teekyuu](https://s4.anilist.co/file/anilistcdn/media/anime/cover/small/bx15125-2ngZyS4KrMqA.png)\n",
      "\n",
      "3. **Teekyuu 2** - The sequel to Teekyuu continues the absurdities and outrageous antics of the same tennis club, maintaining its slice-of-life parody style with even more rapid-fire humor. ![Teekyuu 2](https://s4.anilist.co/file/anilistcdn/media/anime/cover/small/bx18121-k8UaPii7p9sl.jpg)\n",
      "\n",
      "4. **Prince of Tennis II (Shin Tennis no Ouji-sama)** - This series revives the beloved characters from the original while introducing new faces and rivalries, packed with humor and thrilling tennis matches. ![Prince of Tennis II](https://s4.anilist.co/file/anilistcdn/media/anime/cover/small/bx11371-2lnI6nn8HiML.jpg)\n",
      "\n",
      "5. **Teekyuu 3** - The third season of Teekyuu retains the same hilarious energy and is filled with new comedic sketches featuring the tennis club girls as they navigate their absurd school life. ![Teekyuu 3](https://s4.anilist.co/file/anilistcdn/media/anime/cover/small/20444.jpg)\n"
     ]
    }
   ],
   "source": [
    "result = crew.kickoff(inputs={\"user_request\": \"I want a tennis anime with some comedy\"})\n",
    "print(result)"
   ]
  },
  {
   "cell_type": "code",
   "execution_count": 14,
   "metadata": {},
   "outputs": [
    {
     "name": "stdout",
     "output_type": "stream",
     "text": [
      "1. **PSYCHO-PASS** - This anime delves into a dystopian world where society is governed by an omnipresent law enforcement system, exploring the intersection of technology, morality, and psychology in a manner akin to *Ghost in the Shell*. ![Cover](https://s4.anilist.co/file/anilistcdn/media/anime/cover/small/bx13601-i42VFuHpqEOJ.jpg)\n",
      "\n",
      "2. **Vivy: Fluorite Eye’s Song** - Combining action and poignant storytelling, it centers on an AI's existential journey through time, mirroring the philosophical themes of *Ghost in the Shell*. ![Cover](https://s4.anilist.co/file/anilistcdn/media/anime/cover/small/bx128546-UIwyhuhjxmL0.jpg)\n",
      "\n",
      "3. **GHOST IN THE SHELL: Koukaku Kidoutai** - The original movie that set the standard for sci-fi anime, it combines stunning visuals and profound narrative, and remains essential viewing for fans of the genre. ![Cover](https://s4.anilist.co/file/anilistcdn/media/anime/cover/small/bx43-Y6EjeEMM14dj.png)\n",
      "\n",
      "4. **PLUTO** - An adaptation of the *Astro Boy* arc, it features deep themes of AI, identity, and humanity, resonating with the complexity of *Ghost in the Shell*. ![Cover](https://s4.anilist.co/file/anilistcdn/media/anime/cover/small/bx99088-LTJskMD1wbbQ.png)\n",
      "\n",
      "5. **Ghost in the Shell: Stand Alone Complex** - This series expands upon the *Ghost in the Shell* universe, maintaining its narrative depth while introducing episodic storytelling that explores various societal issues. ![Cover](https://s4.anilist.co/file/anilistcdn/media/anime/cover/small/bx467-mBTtIoR13qs2.jpg)\n"
     ]
    }
   ],
   "source": [
    "result = crew.kickoff(inputs={\"user_request\": \"I want an anime like ghost in the shell\"})\n",
    "print(result)"
   ]
  },
  {
   "cell_type": "code",
   "execution_count": null,
   "metadata": {},
   "outputs": [],
   "source": []
  }
 ],
 "metadata": {
  "kernelspec": {
   "display_name": ".venv",
   "language": "python",
   "name": "python3"
  },
  "language_info": {
   "codemirror_mode": {
    "name": "ipython",
    "version": 3
   },
   "file_extension": ".py",
   "mimetype": "text/x-python",
   "name": "python",
   "nbconvert_exporter": "python",
   "pygments_lexer": "ipython3",
   "version": "3.11.11"
  }
 },
 "nbformat": 4,
 "nbformat_minor": 2
}
