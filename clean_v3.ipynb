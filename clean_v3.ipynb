{
 "cells": [
  {
   "cell_type": "code",
   "execution_count": 2,
   "metadata": {},
   "outputs": [],
   "source": [
    "# Here you can play with specific components of the system."
   ]
  },
  {
   "cell_type": "code",
   "execution_count": null,
   "metadata": {},
   "outputs": [
    {
     "name": "stdout",
     "output_type": "stream",
     "text": [
      "All results:\n",
      "- HAIKYU!!\n",
      "  Genres: Comedy, Drama, Sports\n",
      "  Tags: Volleyball, School Club, Male Protagonist, Primarily Male Cast, Ensemble Cast, Shounen, Primarily Teen Cast, School, Coming of Age, Fitness, Cute Boys Doing Cute Things, Kuudere\n",
      "------------------------------------------------------------\n",
      "- HAIKYU!! 2nd Season\n",
      "  Genres: Comedy, Drama, Sports\n",
      "  Tags: Volleyball, School Club, Ensemble Cast, Primarily Teen Cast, Primarily Male Cast, Shounen, Male Protagonist, Coming of Age, School, Tomboy\n",
      "------------------------------------------------------------\n",
      "- HAIKYU!! 3rd Season\n",
      "  Genres: Comedy, Drama, Sports\n",
      "  Tags: Volleyball, School Club, Shounen, Male Protagonist, Primarily Male Cast, Primarily Teen Cast, Ensemble Cast, School, Coming of Age\n",
      "------------------------------------------------------------\n",
      "- HAIKYU!! TO THE TOP\n",
      "  Genres: Comedy, Drama, Sports\n",
      "  Tags: Volleyball, Male Protagonist, Shounen, School Club, Primarily Male Cast, Ensemble Cast, School, Coming of Age, Primarily Teen Cast, Twins, Tomboy\n",
      "------------------------------------------------------------\n",
      "- HAIKYU‼ TO THE TOP Part 2\n",
      "  Genres: Comedy, Drama, Sports\n",
      "  Tags: Volleyball, Male Protagonist, Primarily Male Cast, Ensemble Cast, School Club, Primarily Teen Cast, Shounen, Coming of Age, Twins, Philosophy, Tomboy\n",
      "------------------------------------------------------------\n"
     ]
    }
   ],
   "source": [
    "# Method for searching anime via AniList API\n",
    "from anilist_query_searcher import search_anime\n",
    "\n",
    "search_results = search_anime(\n",
    "    # search_term=\"Attack on titan\",\n",
    "    # genres=[\"Sports\", \"Ecchi\"],  # Using single genre parameter\n",
    "    tags=[\"Volleyball\"],\n",
    "    per_page=5\n",
    ")\n",
    "\n",
    "# # Print all results first\n",
    "print(\"All results:\")\n",
    "for anime in search_results:\n",
    "    print(f\"- {anime['title']['english'] or anime['title']['romaji']}\")\n",
    "    print(f\"  Genres: {', '.join(anime['genres'])}\")\n",
    "    print(f\"  Tags: {', '.join([tag['name'] for tag in anime['tags']])}\")\n",
    "    print(\"-\" * 60)"
   ]
  },
  {
   "cell_type": "code",
   "execution_count": 6,
   "metadata": {},
   "outputs": [],
   "source": [
    "# Stage 1 - Request Parser\n",
    "from crewai import Agent, Task, LLM\n",
    "import os\n",
    "from request_parser import AnimeSearchParams, OFFICIAL_GENRES\n",
    "\n",
    "# Initialize LLM (using GPT-4o from OpenAI)\n",
    "llm = LLM(\n",
    "    model=\"gpt-4.1\",\n",
    "    api_key=os.getenv('OPENAI_API_KEY'),\n",
    "    max_tokens=2000,\n",
    "    temperature=0\n",
    ")\n",
    "\n",
    "mapper = Agent(\n",
    "    name=\"AniListRequestMapper\",\n",
    "    role=\"Filter extractor\",\n",
    "    goal=\"Return only the filters in the user's request, as minimal JSON.\",\n",
    "    backstory=\"An anime librarian who knows the difference between genres and tags.\",\n",
    "    allow_delegation=False,\n",
    "    llm=llm\n",
    ")\n",
    "\n",
    "map_request = Task(\n",
    "    description=(\n",
    "        \"USER_REQUEST:\\n\"\n",
    "        \"{user_request}\\n\\n\"\n",
    "        \"Produce **one JSON object** that validates against AnimeSearchParams.\\n\"\n",
    "        \"Rules:\\n\"\n",
    "        f\"• Only items in this list may appear in `genres`: {OFFICIAL_GENRES}.\\n\"\n",
    "        \"• Any other descriptive phrase (moods, sub‑genres like 'School Life', \"\n",
    "        \"adjectives like 'Wholesome') must go into `tags`.\\n\"\n",
    "        \"• Title‑case every word (e.g. 'school‑life' → 'School Life').\\n\"\n",
    "        \"Don't necessarily include genres unless they are specified in the request.\\n\"\n",
    "        \"• Omit every key whose value would be null.\\n\\n\"\n",
    "        \"Example:\\n\"\n",
    "        \"USER_REQUEST:  Recommend a dark fantasy from 2020.\\n\"\n",
    "        \"OUTPUT: {\\\"genres\\\": [\\\"Fantasy\\\"], \\\"tags\\\": [\\\"Dark\\\"], \\\"year\\\": 2020}\"\n",
    "    ),\n",
    "    expected_output=\"A JSON dict with only the mentioned filters, no nulls.\",\n",
    "    output_json=AnimeSearchParams,\n",
    "    agent=mapper,\n",
    ")"
   ]
  },
  {
   "cell_type": "code",
   "execution_count": null,
   "metadata": {},
   "outputs": [
    {
     "name": "stdout",
     "output_type": "stream",
     "text": [
      "{'genres': ['Comedy'], 'tags': ['Isekai']}\n"
     ]
    }
   ],
   "source": [
    "# Testing for stage 1 - Request Parser\n",
    "from crewai import Crew, Process\n",
    "\n",
    "prompt = \"I want an isekai anime with some comedy\"\n",
    "\n",
    "crew = Crew(\n",
    "    agents=[mapper],\n",
    "    tasks=[map_request],\n",
    "    process=Process.sequential,\n",
    ")\n",
    "crew.kickoff(inputs={\"user_request\": prompt})\n",
    "\n",
    "params = {k: v for k, v in map_request.output.json_dict.items() if v is not None}\n",
    "print(params)\n",
    "\n"
   ]
  },
  {
   "cell_type": "code",
   "execution_count": 9,
   "metadata": {},
   "outputs": [],
   "source": [
    "# Stage 2 - Anime searcher and recommender\n",
    "from recommender import SearchAnimeTool\n",
    "from crewai import Agent, Crew, Task\n",
    "\n",
    "anime_tool = SearchAnimeTool()\n",
    "\n",
    "anime_researcher = Agent(\n",
    "    role=\"Anime Researcher\",\n",
    "    goal=\"Find animes that match a user query.\",\n",
    "    backstory=\"You are a seasoned anime critic.\",\n",
    "    tools=[anime_tool],\n",
    ")\n",
    "\n",
    "recommendation_task = Task(\n",
    "    description=\"Using AniList, compile a list of five anime that match the query.\",\n",
    "    expected_output=\"Five recommendations with one‑sentence justifications.\",\n",
    "    agent=anime_researcher,\n",
    ")"
   ]
  },
  {
   "cell_type": "code",
   "execution_count": 10,
   "metadata": {},
   "outputs": [],
   "source": [
    "# Arming the whole crew: Stage 1 + Stage 2\n",
    "crew = Crew(\n",
    "    agents=[mapper, anime_researcher],\n",
    "    tasks=[map_request, recommendation_task],\n",
    "    process=Process.sequential,\n",
    ")"
   ]
  },
  {
   "cell_type": "code",
   "execution_count": null,
   "metadata": {},
   "outputs": [],
   "source": [
    "# Testing the whole system"
   ]
  },
  {
   "cell_type": "code",
   "execution_count": 11,
   "metadata": {},
   "outputs": [
    {
     "name": "stdout",
     "output_type": "stream",
     "text": [
      "Here are five anime recommendations based on your interest in \"Akira\":\n",
      "\n",
      "1. **Akira (1988)**  \n",
      "   An iconic cyberpunk film that explores themes of power and societal collapse, showcasing stunning animation and a haunting soundtrack that defines the genre.  \n",
      "   ![Akira](https://s4.anilist.co/file/anilistcdn/media/anime/cover/small/bx47-4CR68arv452h.jpg)\n",
      "\n",
      "2. **Battle Angel Alita (GUNNM) (1993)**  \n",
      "   This OVA adaptation introduces a cyborg protagonist in a dystopian future, combining action and emotional depth with a rich backstory, reminiscent of \"Akira.\"  \n",
      "   ![Battle Angel Alita](https://s4.anilist.co/file/anilistcdn/media/anime/cover/small/bx1016-3tyU3Y3KtcGA.png)\n",
      "\n",
      "3. **AKIRA (Shin Anime) (Upcoming)**  \n",
      "   A new adaptation of the original story, this series is anticipated to explore the same haunting themes of dystopia and human evolution present in the classic film.  \n",
      "   ![AKIRA (Shin Anime)](https://s4.anilist.co/file/anilistcdn/media/anime/cover/small/bx126016-9PaIQHxFyyho.png)\n",
      "\n",
      "4. **JUNK HEAD (2017)**  \n",
      "   A visually striking film featuring stop-motion animation set in a dystopian future, exploring themes of humanity and survival, echoing the visual and thematic intensity of \"Akira.\"  \n",
      "   ![JUNK HEAD](https://s4.anilist.co/file/anilistcdn/media/anime/cover/small/bx140113-OP80L0tn5JEM.jpg)\n",
      "\n",
      "5. **Psycho-Pass (2012)**  \n",
      "   A psychological thriller set in a future world governed by a system that measures the likelihood of individuals committing crimes, exploring moral dilemmas similar to those in \"Akira.\"\n"
     ]
    }
   ],
   "source": [
    "result = crew.kickoff(inputs={\"user_request\": \"I want an anime like Akira\"})\n",
    "print(result)"
   ]
  },
  {
   "cell_type": "code",
   "execution_count": 13,
   "metadata": {},
   "outputs": [
    {
     "name": "stdout",
     "output_type": "stream",
     "text": [
      "1. **PSYCHO-PASS** - This anime explores a dystopian society governed by a system that judges the mental state of citizens, fitting perfectly with the themes of surveillance and societal control found in \"Ghost In The Shell.\"  \n",
      "   ![PSYCHO-PASS](https://s4.anilist.co/file/anilistcdn/media/anime/cover/small/bx13601-i42VFuHpqEOJ.jpg)\n",
      "\n",
      "2. **Vivy: Fluorite Eye’s Song** - A unique blend of action and musical elements, it delves into a future influenced by AI, highlighting existential questions akin to those in \"Ghost In The Shell.\"  \n",
      "   ![Vivy: Fluorite Eye’s Song](https://s4.anilist.co/file/anilistcdn/media/anime/cover/small/bx128546-UIwyhuhjxmL0.jpg)\n",
      "\n",
      "3. **Ghost in the Shell: Stand Alone Complex** - A continuation of the franchise, this series expands on the original narrative, further exploring themes of identity and consciousness through a cyberpunk lens.  \n",
      "   ![Ghost in the Shell: Stand Alone Complex](https://s4.anilist.co/file/anilistcdn/media/anime/cover/small/bx467-mBTtIoR13qs2.jpg)\n",
      "\n",
      "4. **PLUTO** - Adapted from the acclaimed manga, it tackles themes of artificial intelligence and morality in a detective narrative, resonating deeply with \"Ghost In The Shell's\" philosophical depth.  \n",
      "   ![PLUTO](https://s4.anilist.co/file/anilistcdn/media/anime/cover/small/bx99088-LTJskMD1wbbQ.png)\n",
      "\n",
      "5. **Ghost in the Shell** - The original film that started it all, it remains a seminal work in the sci-fi genre, blending philosophical questions about humanity with an exploration of a cybernetic future.  \n",
      "   ![Ghost in the Shell](https://s4.anilist.co/file/anilistcdn/media/anime/cover/small/bx43-Y6EjeEMM14dj.png)\n"
     ]
    }
   ],
   "source": [
    "result = crew.kickoff(inputs={\"user_request\": \"I want an anime like ghost in the shell\"})\n",
    "print(result)"
   ]
  },
  {
   "cell_type": "code",
   "execution_count": 12,
   "metadata": {},
   "outputs": [
    {
     "name": "stdout",
     "output_type": "stream",
     "text": [
      "1. **The Prince of Tennis (Tennis no Ouji-sama)** - This iconic sports and comedy anime blends intense tennis matches with engaging character development, making it an essential watch for sports enthusiasts. ![The Prince of Tennis](https://s4.anilist.co/file/anilistcdn/media/anime/cover/small/bx22-yEguU9EmxkjK.png)\n",
      "\n",
      "2. **Teekyuu** - A fast-paced and hilarious take on tennis, this short episode series offers surreal humor and comedic shortcuts while showcasing the fun of school tennis club life. ![Teekyuu](https://s4.anilist.co/file/anilistcdn/media/anime/cover/small/bx15125-2ngZyS4KrMqA.png)\n",
      "\n",
      "3. **Teekyuu 2** - The sequel to Teekyuu continues the absurd comedy and character interactions, maintaining the quirky charm that made the first season a success while pushing the humor to new heights. ![Teekyuu 2](https://s4.anilist.co/file/anilistcdn/media/anime/cover/small/bx18121-k8UaPii7p9sl.jpg)\n",
      "\n",
      "4. **Prince of Tennis II (Shin Tennis no Ouji-sama)** - This follow-up series revitalizes the original with updated characters and matches, offering a mix of nostalgia and fresh content for fans of the franchise. ![Prince of Tennis II](https://s4.anilist.co/file/anilistcdn/media/anime/cover/small/bx11371-2lnI6nn8HiML.jpg)\n",
      "\n",
      "5. **Teekyuu 3** - The third season of this beloved series retains its unique brand of humor, featuring quirky scenarios and relatable characters, while providing fans with yet more lighthearted tennis antics. ![Teekyuu 3](https://s4.anilist.co/file/anilistcdn/media/anime/cover/small/20444.jpg)\n"
     ]
    }
   ],
   "source": [
    "result = crew.kickoff(inputs={\"user_request\": \"I want an tennis anime with some comedy\"})\n",
    "print(result)"
   ]
  },
  {
   "cell_type": "code",
   "execution_count": null,
   "metadata": {},
   "outputs": [],
   "source": []
  }
 ],
 "metadata": {
  "kernelspec": {
   "display_name": ".venv",
   "language": "python",
   "name": "python3"
  },
  "language_info": {
   "codemirror_mode": {
    "name": "ipython",
    "version": 3
   },
   "file_extension": ".py",
   "mimetype": "text/x-python",
   "name": "python",
   "nbconvert_exporter": "python",
   "pygments_lexer": "ipython3",
   "version": "3.11.11"
  }
 },
 "nbformat": 4,
 "nbformat_minor": 2
}
